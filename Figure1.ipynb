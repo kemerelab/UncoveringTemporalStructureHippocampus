{
 "cells": [
  {
   "cell_type": "markdown",
   "metadata": {},
   "source": [
    "# Figure 1"
   ]
  },
  {
   "cell_type": "code",
   "execution_count": 1,
   "metadata": {},
   "outputs": [
    {
     "name": "stderr",
     "output_type": "stream",
     "text": [
      "C:\\Users\\etien\\Anaconda3\\lib\\site-packages\\matplotlib\\cbook\\deprecation.py:107: MatplotlibDeprecationWarning: The mpl_toolkits.axes_grid module was deprecated in version 2.1. Use mpl_toolkits.axes_grid1 and mpl_toolkits.axisartist provies the same functionality instead.\n"
     ]
    },
    {
     "name": "stdout",
     "output_type": "stream",
     "text": [
      "Etienne Ackermann, Thu Feb 07 2019 09:59:21 \n",
      "\n",
      "CPython 3.6.4\n",
      "IPython 6.2.1\n",
      "\n",
      "nelpy 0.2.0\n",
      "numpy 1.14.2\n",
      "scipy 1.0.0\n",
      "pandas 0.23.4\n",
      "matplotlib 2.2.2\n"
     ]
    }
   ],
   "source": [
    "%load_ext watermark\n",
    "%watermark -a \"Etienne Ackermann,\" -n -t -v -p nelpy,numpy,scipy,pandas,matplotlib"
   ]
  },
  {
   "cell_type": "code",
   "execution_count": 2,
   "metadata": {},
   "outputs": [],
   "source": [
    "import matplotlib as mpl\n",
    "import matplotlib.pyplot as plt\n",
    "import pandas as pd\n",
    "import scipy.ndimage.filters\n",
    "import os\n",
    "import sys\n",
    "import warnings\n",
    "import numpy as np\n",
    "import pickle\n",
    "import time\n",
    "import random\n",
    "import seaborn as sns\n",
    "import scipy.stats as stats\n",
    "\n",
    "import copy\n",
    "\n",
    "from sklearn.model_selection import train_test_split\n",
    "from mpl_toolkits.axes_grid1 import make_axes_locatable\n",
    "\n",
    "from nelpy.decoding import k_fold_cross_validation\n",
    "\n",
    "import nelpy as nel\n",
    "import nelpy.analysis\n",
    "import nelpy.plotting as npl\n",
    "\n",
    "npl.setup()\n",
    "\n",
    "%matplotlib inline\n",
    "\n",
    "from nelpy.hmmutils import PoissonHMM\n",
    "\n",
    "warnings.filterwarnings(\"ignore\")"
   ]
  },
  {
   "cell_type": "code",
   "execution_count": 3,
   "metadata": {},
   "outputs": [],
   "source": [
    "datadirs = ['data/']\n",
    "\n",
    "fileroot = next( (dir for dir in datadirs if os.path.isdir(dir)), None)\n",
    "\n",
    "if fileroot is None:\n",
    "    raise FileNotFoundError('datadir not found')\n",
    "\n",
    "load_from_nel = True\n",
    "\n",
    "if load_from_nel:\n",
    "    jar = nel.load_pkl(fileroot + 'fig1.nel')\n",
    "    exp_data = jar.exp_data\n",
    "    aux_data = jar.aux_data\n",
    "    del jar\n"
   ]
  },
  {
   "cell_type": "code",
   "execution_count": 4,
   "metadata": {},
   "outputs": [],
   "source": [
    "jar = nel.load_pkl(fileroot + 'fig1.nel')"
   ]
  },
  {
   "cell_type": "markdown",
   "metadata": {},
   "source": [
    "# Define example session"
   ]
  },
  {
   "cell_type": "code",
   "execution_count": 5,
   "metadata": {},
   "outputs": [],
   "source": [
    "session = '16-40-19'; segment = 'short' # 'long' or 'short'"
   ]
  },
  {
   "cell_type": "markdown",
   "metadata": {},
   "source": [
    "# Figure 1.a"
   ]
  },
  {
   "cell_type": "code",
   "execution_count": 6,
   "metadata": {},
   "outputs": [],
   "source": [
    "all_units = aux_data[session][segment]['PBEs_noIN'].unit_ids\n",
    "tc_placecells = aux_data[session][segment]['tc_placecells_noIN']                                                     \n",
    "new_order = tc_placecells.get_peak_firing_order_ids() \n",
    "remaining_units = list(set(all_units) - set(new_order))\n",
    "new_order.extend(remaining_units)\n",
    "\n",
    "st = exp_data[session]['spikes_noIN']._unit_subset(aux_data[session][segment]['PBEs_noIN'].unit_ids)[nel.EpochArray([1540, 1560])]\n",
    "st = st.reorder_units_by_ids(new_order)\n",
    "\n",
    "placecell_ids = tc_placecells.unit_ids\n",
    "remaining_units = list(set(st.unit_ids) - set(placecell_ids))"
   ]
  },
  {
   "cell_type": "code",
   "execution_count": 7,
   "metadata": {},
   "outputs": [
    {
     "data": {
      "image/png": "[encoded data removed]",
      "text/plain": [
       "<Figure size 1008x432 with 2 Axes>"
      ]
     },
     "metadata": {},
     "output_type": "display_data"
    }
   ],
   "source": [
    "axc, axr = npl.rastercountplot(st, \n",
    "                    vertstack=True, \n",
    "                    lw=0, \n",
    "                    lh=1.25,\n",
    "                    color='0.2',\n",
    "                    nbins=250)\n",
    "\n",
    "npl.rasterplot(st[:,placecell_ids], \n",
    "               vertstack=True, \n",
    "               lw=2, \n",
    "               lh=1.25,\n",
    "               color='r',\n",
    "               ax=axr)\n",
    "\n",
    "npl.rasterplot(st[:,remaining_units], \n",
    "               vertstack=True, \n",
    "               lw=2, \n",
    "               lh=1.25,\n",
    "               color='b',\n",
    "               ax=axr)\n",
    "\n",
    "npl.epochplot(aux_data[session][segment]['PBEs_noIN'][[52,53,54]].support, hatch='')\n",
    "npl.epochplot(aux_data[session][segment]['st_run_noIN'].support, hatch='')\n",
    "axr.set_xlim(1540,1560)\n",
    "axc.set_xlim(1540,1560)\n",
    "npl.plot(exp_data[session]['speed'][nel.EpochArray((1540,1560))]/2, ax=axc)\n",
    "\n",
    "\n",
    "npl.utils.no_yticklabels(axr)\n",
    "npl.utils.no_yticks(axr)\n",
    "axr.set_ylabel('{} units'.format(aux_data[session][segment]['PBEs_noIN'].n_units))\n",
    "\n",
    "fig = plt.gcf()\n",
    "\n",
    "# npl.savefig('fig1a-reordered', formats=['pdf', 'png', 'svg'], fig=fig, dpi=300)"
   ]
  },
  {
   "cell_type": "markdown",
   "metadata": {},
   "source": [
    "# Train HMM on example session PBEs"
   ]
  },
  {
   "cell_type": "code",
   "execution_count": 8,
   "metadata": {},
   "outputs": [],
   "source": [
    "## Train HMM for particular session using all PBEs; get lsPF, and reorder both lsPF\n",
    "## and HMM states by peak firing loc on track\n",
    "\n",
    "num_states = 30 # number of states for PBE HMM\n",
    "ds = 0.02 # 20 ms bin size for PBEs\n",
    "ds_run = 0.1\n",
    "ds_50ms = 0.05\n",
    "min_tc_duration = 0 # mininmum observation time in seconds, before a bin contributes to the tuning curve\n",
    "sigma_tc = 4 # 4 cm smoothing on tuning curves\n",
    "\n",
    "st = aux_data[session][segment]['st_run_noIN']\n",
    "PBEs = aux_data[session][segment]['PBEs_noIN']\n",
    "st_no_ripple = st[~exp_data[session]['mua_epochs']]\n",
    "st_no_ripple = st_no_ripple._unit_subset(PBEs.unit_ids)\n",
    "pos = exp_data[session]['pos1d'] \n",
    "\n",
    "# smooth and re-bin:\n",
    "sigma = 0.3 # 300 ms spike smoothing\n",
    "bst_no_ripple = st_no_ripple.bin(ds=ds_50ms).smooth(sigma=sigma, inplace=True).rebin(w=ds_run/ds_50ms)\n",
    "\n",
    "ext_nx=124\n",
    "x0=0; xl=310;\n",
    "xx_left = np.linspace(x0,xl,ext_nx+1)\n",
    "xx_mid = np.linspace(x0,xl,ext_nx+1)[:-1]; xx_mid += (xx_mid[1]-xx_mid[0])/2\n",
    "\n",
    "# train HMM on all training PBEs\n",
    "hmm = nel.hmmutils.PoissonHMM(n_components=num_states, random_state=0, verbose=False)\n",
    "hmm.fit(PBEs)\n",
    "\n",
    "# reorder states according to transmat ordering\n",
    "transmat_order = hmm.get_state_order('transmat')\n",
    "hmm.reorder_states(transmat_order)\n",
    "\n",
    "xpos = pos.asarray(at=bst_no_ripple.centers).yvals\n",
    "\n",
    "ext_x = np.digitize(xpos, xx_left) - 1 # spatial bin numbers\n",
    "ext_x = ext_x.astype(float)\n",
    "ext_x[ext_x==0] = np.nan\n",
    "ext_x[ext_x>=ext_nx] = np.nan\n",
    "\n",
    "extern = hmm.fit_ext(X=bst_no_ripple, ext=ext_x, n_extern=ext_nx)\n",
    "\n",
    "vtc = nel.TuningCurve1D(ratemap=extern, min_duration=min_tc_duration, extmin=x0, extmax=xl)\n",
    "vtc = vtc.smooth(sigma=sigma_tc)\n",
    "\n",
    "states_in_track_order = np.array(vtc.get_peak_firing_order_ids())-1\n",
    "\n",
    "vtc.reorder_units(inplace=True)\n",
    "\n",
    "hmm.reorder_states(states_in_track_order) # careful with this! VTCs and hmms can get out of sync, since state IDs are not persistent\n",
    "\n",
    "neworder = hmm.get_state_order()\n",
    "hmm.reorder_states(neworder)"
   ]
  },
  {
   "cell_type": "markdown",
   "metadata": {},
   "source": [
    "# Figure 1.c,d"
   ]
  },
  {
   "cell_type": "code",
   "execution_count": 9,
   "metadata": {},
   "outputs": [],
   "source": [
    "neworder = hmm.get_state_order()\n",
    "hmm.reorder_states(neworder)"
   ]
  },
  {
   "cell_type": "code",
   "execution_count": 10,
   "metadata": {},
   "outputs": [
    {
     "data": {
      "text/plain": [
       "<matplotlib.image.AxesImage at 0x12358c78198>"
      ]
     },
     "execution_count": 10,
     "metadata": {},
     "output_type": "execute_result"
    },
    {
     "data": {
      "image/png": "[encoded data removed]",
      "text/plain": [
       "<Figure size 288x288 with 1 Axes>"
      ]
     },
     "metadata": {},
     "output_type": "display_data"
    }
   ],
   "source": [
    "plt.matshow(hmm.transmat, cmap=plt.cm.Spectral_r, vmin=0, vmax=1)"
   ]
  },
  {
   "cell_type": "code",
   "execution_count": 11,
   "metadata": {},
   "outputs": [
    {
     "data": {
      "text/plain": [
       "<matplotlib.image.AxesImage at 0x123530b8ef0>"
      ]
     },
     "execution_count": 11,
     "metadata": {},
     "output_type": "execute_result"
    },
    {
     "data": {
      "image/png": "[encoded data removed]",
      "text/plain": [
       "<Figure size 288x988.8 with 1 Axes>"
      ]
     },
     "metadata": {},
     "output_type": "display_data"
    }
   ],
   "source": [
    "neworder = np.argsort(hmm.means.sum(axis=0))\n",
    "plt.matshow(hmm.means[:,neworder].T, cmap=plt.cm.Spectral_r)"
   ]
  },
  {
   "cell_type": "markdown",
   "metadata": {},
   "source": [
    "# Figure 1.b"
   ]
  },
  {
   "cell_type": "code",
   "execution_count": 12,
   "metadata": {},
   "outputs": [],
   "source": [
    "def plot_raster_state(aux_data, exp_data, session, segment, PBEidx, st_order='track', state_order='lsPF', allcells=False):\n",
    "    \"\"\"\n",
    "    \n",
    "    st_order = ['track', 'first', 'random']\n",
    "    state_order = ['lsPF', 'event', 'random', 'transmat']\n",
    "    allcells: bool\n",
    "        Only show place cells when False, otherwise show spikes from all cells. Default is False.\n",
    "    \"\"\"\n",
    "    PBEidx.sort()\n",
    "    bst = aux_data[session][segment]['PBEs_noIN'][PBEidx]\n",
    "    if allcells:\n",
    "        st = exp_data[session]['spikes_noIN']\n",
    "    else:\n",
    "        st = aux_data[session][segment]['st_placecells_noIN']\n",
    "    tc = aux_data[session][segment]['tc_noIN']\n",
    "    tc_placecells = aux_data[session][segment]['tc_placecells_noIN']\n",
    "    hmm = aux_data[session][segment]['hmm']\n",
    "    \n",
    "    if state_order=='event':\n",
    "        hmm = reorder_hmm_by_evt(hmm, bst)\n",
    "    elif state_order=='transmat':\n",
    "        hmm = copy.deepcopy(hmm)\n",
    "        new_order = hmm.get_state_order(method='transmat')\n",
    "        hmm.reorder_states(new_order)\n",
    "    elif state_order=='lsPF':\n",
    "        hmm = copy.deepcopy(hmm)\n",
    "        new_order = hmm.get_state_order(method='mean')\n",
    "        hmm.reorder_states(new_order)\n",
    "    elif state_order=='random':\n",
    "        hmm = copy.deepcopy(hmm)\n",
    "        new_order = np.random.permutation(hmm.get_state_order())\n",
    "        hmm.reorder_states(new_order)\n",
    "    else:\n",
    "        hmm = copy.deepcopy(hmm)\n",
    "        hmm.reorder_states(state_order)\n",
    "\n",
    "    st_cut = st[bst.support]\n",
    "    st_cut = nel.utils.collapse_time(st_cut)\n",
    "    \n",
    "    if st_order == 'track':\n",
    "        if not allcells:\n",
    "            new_order = tc_placecells.get_peak_firing_order_ids()\n",
    "        else:\n",
    "            all_units = st.unit_ids\n",
    "            new_order = tc_placecells.get_peak_firing_order_ids() \n",
    "            remaining_units = list(set(all_units) - set(new_order))\n",
    "            new_order.extend(remaining_units)\n",
    "    elif st_order == 'first':\n",
    "        new_order = st_cut.get_spike_firing_order()\n",
    "    elif st_order == 'random':\n",
    "        new_order = np.random.permutation(st.unit_ids)\n",
    "    else:\n",
    "        new_order = st_order\n",
    "    st_cut.reorder_units_by_ids(new_order, inplace=True)\n",
    "    \n",
    "    _, posterior_states = hmm.score_samples(bst)\n",
    "    posterior = np.hstack(posterior_states)\n",
    "\n",
    "    fig, ax = plt.subplots(figsize=(bst.n_bins/5, 4))    \n",
    "    \n",
    "    pixel_width = 0.5\n",
    "\n",
    "    npl.imagesc(x=np.arange(bst.n_bins), y=np.arange(311), data=posterior, cmap=plt.cm.gray_r, ax=ax)\n",
    "    npl.utils.yticks_interval(310)\n",
    "    npl.utils.no_yticks(ax)\n",
    "\n",
    "    ax.vlines(np.arange(bst.lengths.sum())-pixel_width, *ax.get_ylim(), lw=1, linestyle=':', color='0.8')\n",
    "    ax.vlines(np.cumsum(bst.lengths)-pixel_width, *ax.get_ylim(), lw=1)\n",
    "\n",
    "    ax.set_xlim(-pixel_width, bst.lengths.sum()-pixel_width)\n",
    "\n",
    "    event_centers = np.insert(np.cumsum(bst.lengths),0,0)\n",
    "    event_centers = event_centers[:-1] + bst.lengths/2 - 0.5\n",
    "\n",
    "    ax.set_xticks([0, bst.n_bins-1]);\n",
    "    ax.set_xticklabels([1, bst.n_bins]);\n",
    "\n",
    "    npl.utils.no_xticks(ax)\n",
    "\n",
    "    divider = make_axes_locatable(ax)\n",
    "    axRaster = divider.append_axes(\"top\", size=1.5, pad=0)\n",
    "\n",
    "    if allcells:\n",
    "        placecell_ids = tc_placecells.unit_ids\n",
    "        remaining_units = list(set(st_cut.unit_ids) - set(placecell_ids))\n",
    "        npl.rasterplot(st_cut, vertstack=True, ax=axRaster, lh=2.5, lw=2.5, color='none')\n",
    "        npl.rasterplot(st_cut[:,placecell_ids], vertstack=True, ax=axRaster, lh=2.5, lw=2.5, color='r')\n",
    "        npl.rasterplot(st_cut[:,remaining_units], vertstack=True, ax=axRaster, lh=2.5, lw=2.5, color='b')\n",
    "    else:\n",
    "        npl.rasterplot(st_cut, vertstack=True, ax=axRaster, lh=1.25, lw=2.5, color='0.1')\n",
    "\n",
    "    axRaster.set_xlim(st_cut.support.time.squeeze())\n",
    "    bin_edges = np.linspace(st_cut.support.time[0,0],st_cut.support.time[0,1], bst.n_bins+1)\n",
    "    axRaster.vlines(bin_edges, *axRaster.get_ylim(), lw=1, linestyle=':', color='0.8')\n",
    "    axRaster.vlines(bin_edges[np.cumsum(bst.lengths)], *axRaster.get_ylim(), lw=1, color='0.2')\n",
    "    npl.utils.no_xticks(axRaster)\n",
    "    npl.utils.no_xticklabels(axRaster)\n",
    "    npl.utils.no_yticklabels(axRaster)\n",
    "    npl.utils.no_yticks(axRaster)\n",
    "    ax.set_ylabel('position [cm]')\n",
    "    ax.set_xlabel('time bins (20 ms)')\n",
    "    npl.utils.clear_left_right(axRaster)\n",
    "    npl.utils.clear_top_bottom(axRaster)\n",
    "    print(\"{}: PBE {} ({:2.3f}--{:2.3f} s)\".format(session, PBEidx, bst.support.start, bst.support.stop))\n",
    "        \n",
    "    return fig\n",
    "        "
   ]
  },
  {
   "cell_type": "code",
   "execution_count": 13,
   "metadata": {},
   "outputs": [],
   "source": [
    "def reorder_hmm_by_evt(hmm, evt):\n",
    "    \"\"\"evt is a bst\"\"\"\n",
    "    import copy\n",
    "    def list_unique(seq):\n",
    "        \"\"\"Remove duplicate from list while keeping order\n",
    "        Required arguments:\n",
    "            seq: A list containing all objects\n",
    "        Returns:\n",
    "            A list with only unique values. Only the first occurence is kept.\n",
    "        \"\"\"\n",
    "        def filter_uniques(seq):\n",
    "            # We use set() since it's faster at lookups.\n",
    "            seen = set()\n",
    "            for x in seq:\n",
    "                if x in seen:\n",
    "                    continue\n",
    "                seen.add(x)\n",
    "                yield x\n",
    "\n",
    "        return list(filter_uniques(seq))\n",
    "\n",
    "    hmm = copy.deepcopy(hmm)\n",
    "    \n",
    "    states = np.hstack(hmm.predict(evt))\n",
    "\n",
    "    neworder = list_unique(list(states) + list(range(hmm.n_components)))\n",
    "    hmm.reorder_states(neworder)\n",
    "    \n",
    "    return hmm"
   ]
  },
  {
   "cell_type": "code",
   "execution_count": 14,
   "metadata": {},
   "outputs": [
    {
     "name": "stdout",
     "output_type": "stream",
     "text": [
      "16-40-19: PBE [54, 87, 92, 93, 101, 102, 103] (1559.060--1851.874 s)\n"
     ]
    },
    {
     "data": {
      "image/png": "[encoded data removed]",
      "text/plain": [
       "<Figure size 849.6x288 with 2 Axes>"
      ]
     },
     "metadata": {},
     "output_type": "display_data"
    }
   ],
   "source": [
    "PBEidx=[101, 102, 103, 54, 93, 87, 92]\n",
    "fig = plot_raster_state(aux_data, exp_data, session=session, segment=segment, PBEidx=PBEidx, st_order='track', state_order='lsPF', allcells=True)"
   ]
  }
 ],
 "metadata": {
  "anaconda-cloud": {},
  "kernelspec": {
   "display_name": "Python 3",
   "language": "python",
   "name": "python3"
  },
  "language_info": {
   "codemirror_mode": {
    "name": "ipython",
    "version": 3
   },
   "file_extension": ".py",
   "mimetype": "text/x-python",
   "name": "python",
   "nbconvert_exporter": "python",
   "pygments_lexer": "ipython3",
   "version": "3.6.4"
  }
 },
 "nbformat": 4,
 "nbformat_minor": 2
}
